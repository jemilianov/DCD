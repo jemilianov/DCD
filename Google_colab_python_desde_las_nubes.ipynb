{
  "nbformat": 4,
  "nbformat_minor": 0,
  "metadata": {
    "colab": {
      "name": "Google_colab_python_desde_las_nubes.ipynb",
      "provenance": [],
      "collapsed_sections": [],
      "include_colab_link": true
    },
    "kernelspec": {
      "name": "python3",
      "display_name": "Python 3"
    }
  },
  "cells": [
    {
      "cell_type": "markdown",
      "metadata": {
        "id": "view-in-github",
        "colab_type": "text"
      },
      "source": [
        "<a href=\"https://colab.research.google.com/github/jemilianov/DCD/blob/master/Google_colab_python_desde_las_nubes.ipynb\" target=\"_parent\"><img src=\"https://colab.research.google.com/assets/colab-badge.svg\" alt=\"Open In Colab\"/></a>"
      ]
    },
    {
      "cell_type": "markdown",
      "metadata": {
        "id": "5jWcNoLsudkq",
        "colab_type": "text"
      },
      "source": [
        "\n",
        "\n",
        "# **Capítulo 1. Python desde las nubes**\n",
        "\n",
        "\n",
        "---\n",
        "\n",
        "\n"
      ]
    },
    {
      "cell_type": "markdown",
      "metadata": {
        "id": "Gc-cH5CCR9QK",
        "colab_type": "text"
      },
      "source": [
        "# Objetivos:  \n",
        " \n",
        "*   Presentar google colab como opción en la nube y sus beneficios.\n",
        "*   Presentar el lenguaje de programación python como una alternativa a los lenguajes de programación conocidos y utilizados en la ciencia.\n",
        "*   Redes, no de araña; neuronales.\n",
        "*   Conceptos básicos e introducción al \"Machine Learning\"\n",
        "*   Brevemente, un par de ejemplos en comparación con modelos de machine learning.\n",
        "*   Espacio para propuestas de proyectos.\n",
        "\n",
        "\n",
        "\n",
        "\n",
        "\n",
        "\n",
        "\n",
        "\n",
        "\n",
        "\n",
        "\n",
        "\n",
        "\n",
        "\n",
        "\n"
      ]
    },
    {
      "cell_type": "markdown",
      "metadata": {
        "id": "8xZf-3z5B9J_",
        "colab_type": "text"
      },
      "source": [
        "\n",
        "<p><img alt=\"Colaboratory logo\" height=\"45px\" src=\"/img/colab_favicon.ico\" align=\"left\" hspace=\"10px\" vspace=\"0px\"></p>\n",
        "\n",
        "<h1>¿Qué es Colab?</h1>\n",
        "\n",
        "Colab te permite ejecutar y programar en Python en tu navegador:\n",
        "- No requiere configuración(*difícil dependiendo de la expertiz*)\n",
        "- Acceso gratuito a GPUs(*ahorra dinerito*)\n",
        "- Compartir fácilmente (*productivo*)\n",
        "\n",
        "Es un servicio en la nube; los ervicios en la nube tal como están concebidos hasta la fecha, hacen al usuario dependiente del proveedor.Limitando el número y tipo de aplicaciones que este el usuario puede requerir. *El usuario de la nube sólo puede usar aquellas aplicaciones que el proveedor de la nube diseña y permite.*\n",
        "\n",
        "Una sesión en Colab dura 12 horas, luego de este tiempo se pierde la conexión y se detienen los cálculos.\n",
        "\n",
        "\n",
        "\n",
        "Colab ofrece servicios de pago y renta muy variados, desde renta mensual hasta pago por carga de trabajo.\n"
      ]
    },
    {
      "cell_type": "markdown",
      "metadata": {
        "id": "vIBvCxdyWH_n",
        "colab_type": "text"
      },
      "source": [
        "\n",
        "<p><img alt=\"Colaboratory logo\" height=\"45px\" src=\"/img/colab_favicon.ico\" align=\"left\" hspace=\"10px\" vspace=\"0px\"></p>\n",
        "\n",
        "<h1>¿Qué características tiene la \"computadora\"?</h1>"
      ]
    },
    {
      "cell_type": "code",
      "metadata": {
        "id": "_d8oGf5ZW_0l",
        "colab_type": "code",
        "colab": {}
      },
      "source": [
        "#almacenamiento\n",
        "\n",
        "!df -h"
      ],
      "execution_count": 0,
      "outputs": []
    },
    {
      "cell_type": "code",
      "metadata": {
        "id": "EFLMiX7sXEnJ",
        "colab_type": "code",
        "colab": {}
      },
      "source": [
        "#características de procesador\n",
        "\n",
        "!cat /proc/cpuinfo"
      ],
      "execution_count": 0,
      "outputs": []
    },
    {
      "cell_type": "markdown",
      "metadata": {
        "id": "4MKW_PJ2XEXR",
        "colab_type": "text"
      },
      "source": [
        "# Resumen de características:\n",
        "\n",
        "\n",
        "\n",
        "\n",
        "*    Un procesador Xeon tiene 46 Mb de caché,\n",
        "además, **¡son dos!** (Un procesador i7 8700 tiene 12 Mb de caché)\n",
        "*   12Gb de RAM\n",
        "*   100Gb de almacenamiento\n",
        "\n",
        "\n",
        "*   **Tarjeta gráfica NVIDIA TESLA K80 12Gb de memoria(una rtx 2060 tiene 6Gb) \n",
        "\n",
        "**es difícil comparar el rendimiento debido al enfoque de uso para videojuegos.\n",
        "\n",
        "**Por supuesto, la versión de pago ofrece mejores características.**\n",
        "\n",
        "\n"
      ]
    },
    {
      "cell_type": "markdown",
      "metadata": {
        "id": "barGaLI3dP5Z",
        "colab_type": "text"
      },
      "source": [
        "# Hablando de python y lenguajes de programación\n",
        "\n",
        "\n",
        "\n",
        "**Lenguajes de bajo nivel:** *más cerca del entendimiento de la máquina*\n",
        "\n",
        "Son lenguajes totalmente dependientes de la máquina, es decir que el programa que se realiza con este tipo de lenguajes no se pueden migrar o utilizar en otras maquinas. *Son difíciles de entender*\n",
        "\n",
        "\"Hola mundo\" en lenguaje ensamblador:\n",
        "\n",
        "    hola-ppc.S para Mac OS X\n",
        "    gcc -nostdlib hola-ppc.S -o hola-ppc\n",
        "    .data                    ; datos\n",
        "    \n",
        "    hola:\n",
        "      .ascii    \"¡Hola, mundo!\\n\"\n",
        "      hola_len = . - hola\n",
        "    \n",
        "    .text                    ; aquí vive el código\n",
        "      .globl start\n",
        " \n",
        "    start:\n",
        "     li      r0, 4              ; llamada al sistema 4 (sys_write)\n",
        "\n",
        "     li      r3, 1              ; arg. 1: descriptor de archivo (stdout)\n",
        "\n",
        "     lis     r4, ha16(hola)     ; arg. 2: puntero a la cadena (parte alta)\n",
        "\n",
        "     addi    r4, r4,lo16(hola)  ; sumamos la parte baja del mismo\n",
        "\n",
        "     li      r5, hola_len       ; arg. 3: longitud de la cadena\n",
        "     sc                         ; llamamos al sistema\n",
        "     nop\n",
        "     li        r3, 0            ; el valor que vamos a devolver\n",
        "     li        r0, 1            ; llamada al sistema sys_exit\n",
        "     sc\n",
        "     nop\n",
        "\n",
        "\n",
        "**Lenguajes de alto nivel** \n",
        "\n",
        "Python es un lenguaje interpretado de alto nivel por poseer una **estructura sintáctica y semántica legible**, es legible para el programador.\n",
        "\n",
        "**casi se puede programar como se tienen las ideas.\n",
        "\n",
        "\n"
      ]
    },
    {
      "cell_type": "code",
      "metadata": {
        "id": "NA3TfDyqfLfW",
        "colab_type": "code",
        "colab": {
          "base_uri": "https://localhost:8080/",
          "height": 34
        },
        "outputId": "2eec12c4-71b1-4454-b96b-df48d13ae705"
      },
      "source": [
        "# hola mundo en python\n",
        "print('hola mundo')"
      ],
      "execution_count": 4,
      "outputs": [
        {
          "output_type": "stream",
          "text": [
            "hola mundo\n"
          ],
          "name": "stdout"
        }
      ]
    },
    {
      "cell_type": "markdown",
      "metadata": {
        "id": "uXZ4PHt2h2UL",
        "colab_type": "text"
      },
      "source": [
        "# Y todo esto, ¿gratis?\n",
        "\n"
      ]
    },
    {
      "cell_type": "markdown",
      "metadata": {
        "id": "gwuO_2qjhbcS",
        "colab_type": "text"
      },
      "source": [
        "# **Veamos un ejemplo**"
      ]
    },
    {
      "cell_type": "markdown",
      "metadata": {
        "id": "QToFwRDAOQll",
        "colab_type": "text"
      },
      "source": [
        "## Clasificación con datos MNist\n",
        "\n",
        "MNist es un popular conjunto de datos que contiene imágenes de dígitos del 0-9 escritos a mano(provienen de los códigos postales del servicio de correo de estados unidos y están clasificados). Las imágenes en el conjunto están compuestas de 28x28 pixeles, cada pixel representa un tono en una escala de grises(0 a 255).\n",
        "\n",
        "así se ven algunos de los números en MNist:\n",
        "\n",
        "![alt text](https://upload.wikimedia.org/wikipedia/commons/2/27/MnistExamples.png)"
      ]
    },
    {
      "cell_type": "code",
      "metadata": {
        "id": "M_YPfZtiMBZH",
        "colab_type": "code",
        "colab": {}
      },
      "source": [
        "#importar librerias\n",
        "\n",
        "import numpy as np\n",
        "from matplotlib import pyplot as plt "
      ],
      "execution_count": 0,
      "outputs": []
    },
    {
      "cell_type": "code",
      "metadata": {
        "id": "9SYL3xduRMnA",
        "colab_type": "code",
        "colab": {}
      },
      "source": [
        "#aquí definimos una función que permite visualizar la matriz de los datos etiquetados\n",
        "# ** esta función ya está definida en el ejemplo**\n",
        "def display_example(x, example_width=None):\n",
        "    # Compute rows, cols\n",
        "    if x.ndim == 1:\n",
        "        n = x.size\n",
        "        m = 1\n",
        "        x = x[None]  \n",
        "    else:\n",
        "        raise IndexError('X debe ser de 1 dimensión.')\n",
        "\n",
        "    example_width = example_width or int(np.round(np.sqrt(n)))\n",
        "    example_height = n // example_width\n",
        "\n",
        "    plt.imshow(x[0].reshape(example_height, example_width),\n",
        "                        cmap='Greys', extent=[0, 1, 0, 1])\n",
        "    plt.show()"
      ],
      "execution_count": 0,
      "outputs": []
    },
    {
      "cell_type": "markdown",
      "metadata": {
        "id": "GXfxMAENRUnG",
        "colab_type": "text"
      },
      "source": [
        "## Cargando los datos usando Numpy\n",
        "\n",
        "Usarémos la función ```loadtxt``` para cargar los datos MNist"
      ]
    },
    {
      "cell_type": "code",
      "metadata": {
        "id": "Vp4FZPSsL9Uo",
        "colab_type": "code",
        "outputId": "1bc9f453-2ef4-4ce7-ba91-1eb49bbe5b04",
        "colab": {
          "base_uri": "https://localhost:8080/",
          "height": 136
        }
      },
      "source": [
        "#aquí cargamos el set de datos en formato csv\n",
        "MNist = np.loadtxt(\"sample_data/mnist_train_small.csv\", delimiter=',')\n",
        "MNist\n"
      ],
      "execution_count": 18,
      "outputs": [
        {
          "output_type": "execute_result",
          "data": {
            "text/plain": [
              "array([[6., 0., 0., ..., 0., 0., 0.],\n",
              "       [5., 0., 0., ..., 0., 0., 0.],\n",
              "       [7., 0., 0., ..., 0., 0., 0.],\n",
              "       ...,\n",
              "       [2., 0., 0., ..., 0., 0., 0.],\n",
              "       [9., 0., 0., ..., 0., 0., 0.],\n",
              "       [5., 0., 0., ..., 0., 0., 0.]])"
            ]
          },
          "metadata": {
            "tags": []
          },
          "execution_count": 18
        }
      ]
    },
    {
      "cell_type": "code",
      "metadata": {
        "id": "Ygdpu1t3nfU1",
        "colab_type": "code",
        "colab": {
          "base_uri": "https://localhost:8080/",
          "height": 1000
        },
        "outputId": "ea7e6c91-6d04-4bd5-a6e8-84458c7c989d"
      },
      "source": [
        "MNist[6]"
      ],
      "execution_count": 30,
      "outputs": [
        {
          "output_type": "execute_result",
          "data": {
            "text/plain": [
              "array([  0.,   0.,   0.,   0.,   0.,   0.,   0.,   0.,   0.,   0.,   0.,\n",
              "         0.,   0.,   0.,   0.,   0.,   0.,   0.,   0.,   0.,   0.,   0.,\n",
              "         0.,   0.,   0.,   0.,   0.,   0.,   0.,   0.,   0.,   0.,   0.,\n",
              "         0.,   0.,   0.,   0.,   0.,   0.,   0.,   0.,   0.,   0.,   0.,\n",
              "         0.,   0.,   0.,   0.,   0.,   0.,   0.,   0.,   0.,   0.,   0.,\n",
              "         0.,   0.,   0.,   0.,   0.,   0.,   0.,   0.,   0.,   0.,   0.,\n",
              "         0.,   0.,   0.,   0.,   0.,   0.,   0.,   0.,   0.,   0.,   0.,\n",
              "         0.,   0.,   0.,   0.,   0.,   0.,   0.,   0.,   0.,   0.,   0.,\n",
              "         0.,   0.,   0.,   0.,   0.,   0.,   0.,   0.,   0.,   0.,   0.,\n",
              "         0.,   0.,   0.,   0.,   0.,   0.,   0.,   0.,   0.,   0.,   0.,\n",
              "         0.,   0.,   0.,   0.,   0.,   0.,   0.,   0.,   0.,   0.,   0.,\n",
              "         0.,   0.,  10.,  79., 141., 141., 229., 253., 242., 116.,  19.,\n",
              "         0.,   0.,   0.,   0.,   0.,   0.,   0.,   0.,   0.,   0.,   0.,\n",
              "         0.,   0.,   0.,   0.,   0.,   0.,   0.,  63., 197., 252., 253.,\n",
              "       252., 252., 252., 253., 252., 224., 169.,   0.,   0.,   0.,   0.,\n",
              "         0.,   0.,   0.,   0.,   0.,   0.,   0.,   0.,   0.,   0.,   0.,\n",
              "         0.,  10., 197., 252., 252., 253., 252., 252., 252., 253., 252.,\n",
              "       252., 252., 185.,  28.,   0.,   0.,   0.,   0.,   0.,   0.,   0.,\n",
              "         0.,   0.,   0.,   0.,   0.,   0.,   0.,  29., 177., 103., 178.,\n",
              "       253., 252., 252., 252., 253., 227., 139., 240., 253.,  84.,   0.,\n",
              "         0.,   0.,   0.,   0.,   0.,   0.,   0.,   0.,   0.,   0.,   0.,\n",
              "         0.,   0.,   0.,   7., 154., 253., 255., 253., 244., 125., 114.,\n",
              "        38.,   0., 101., 255., 228.,  44.,   0.,   0.,   0.,   0.,   0.,\n",
              "         0.,   0.,   0.,   0.,   0.,   0.,   0.,   0.,   0., 131., 252.,\n",
              "       252., 222., 196., 130.,   0.,   0.,   0.,   0.,   0., 253., 252.,\n",
              "       168.,   0.,   0.,   0.,   0.,   0.,   0.,   0.,   0.,   0.,   0.,\n",
              "         0.,   0.,   0.,  23., 234., 252., 252.,  25.,   0.,   0.,   0.,\n",
              "         0.,   0.,   0.,   0., 128., 252., 168.,   0.,   0.,   0.,   0.,\n",
              "         0.,   0.,   0.,   0.,   0.,   0.,   0.,   0.,   0., 179., 252.,\n",
              "       252., 151.,   0.,   0.,   0.,   0.,   0.,   0.,   0.,   0.,  29.,\n",
              "       252., 243.,  25.,   0.,   0.,   0.,   0.,   0.,   0.,   0.,   0.,\n",
              "         0.,   0.,   0.,  76., 254., 253., 206.,  13.,   0.,   0.,   0.,\n",
              "         0.,   0.,   0.,   0., 114., 104., 253., 253.,  28.,   0.,   0.,\n",
              "         0.,   0.,   0.,   0.,   0.,   0.,   0.,   0.,  57., 243., 253.,\n",
              "       252.,  93.,   0.,   0.,   0.,   0.,   0.,   0.,   0.,   0.,  38.,\n",
              "       253., 252., 233.,  22.,   0.,   0.,   0.,   0.,   0.,   0.,   0.,\n",
              "         0.,   0.,   0.,  85., 252., 253., 170.,  13.,   0.,   0.,   0.,\n",
              "         0.,   0.,   0.,   0.,   0.,   0., 253., 252., 234.,  22.,   0.,\n",
              "         0.,   0.,   0.,   0.,   0.,   0.,   0.,   0.,   0., 134., 252.,\n",
              "       253.,  84.,   0.,   0.,   0.,   0.,   0.,   0.,   0.,   0.,   0.,\n",
              "       101., 253., 252., 177.,   3.,   0.,   0.,   0.,   0.,   0.,   0.,\n",
              "         0.,   0.,   0.,   7., 204., 253., 239.,  38.,   0.,   0.,   0.,\n",
              "         0.,   0.,   0.,   0.,   0.,   0., 114., 254., 253., 168.,   0.,\n",
              "         0.,   0.,   0.,   0.,   0.,   0.,   0.,   0.,   0.,  82., 252.,\n",
              "       252., 125.,   0.,   0.,   0.,   0.,   0.,   0.,   0.,   0.,   0.,\n",
              "         0., 188., 253., 252., 168.,   0.,   0.,   0.,   0.,   0.,   0.,\n",
              "         0.,   0.,   0.,  10., 197., 252., 252.,   0.,   0.,   0.,   0.,\n",
              "         0.,   0.,   0.,   0.,   0.,   0.,  67., 246., 253., 252.,  80.,\n",
              "         0.,   0.,   0.,   0.,   0.,   0.,   0.,   0.,   0.,  29., 252.,\n",
              "       252., 202.,   0.,   0.,   0.,   0.,   0.,   0.,   0.,   0.,   0.,\n",
              "         0.,  47., 240., 253., 151.,   6.,   0.,   0.,   0.,   0.,   0.,\n",
              "         0.,   0.,   0.,   0.,  29., 253., 253., 153.,   0.,   0.,   0.,\n",
              "         0.,   0.,   0.,   0.,   0.,   0.,  19., 104., 253., 254.,  84.,\n",
              "         0.,   0.,   0.,   0.,   0.,   0.,   0.,   0.,   0.,   0.,  10.,\n",
              "       196., 252., 252., 169., 169., 169., 169., 169.,  94.,  57., 107.,\n",
              "       169., 225., 252., 252., 209.,  28.,   0.,   0.,   0.,   0.,   0.,\n",
              "         0.,   0.,   0.,   0.,   0.,   0., 131., 252., 252., 253., 252.,\n",
              "       252., 252., 253., 252., 252., 252., 253., 252., 252., 252.,  25.,\n",
              "         0.,   0.,   0.,   0.,   0.,   0.,   0.,   0.,   0.,   0.,   0.,\n",
              "         0.,   7., 116., 139., 253., 252., 252., 252., 253., 227., 177.,\n",
              "       252., 140., 139., 139.,  40.,   0.,   0.,   0.,   0.,   0.,   0.,\n",
              "         0.,   0.,   0.,   0.,   0.,   0.,   0.,   0.,   0.,   0.,   0.,\n",
              "         0.,   0.,   0.,   0.,   0.,   0.,   0.,   0.,   0.,   0.,   0.,\n",
              "         0.,   0.,   0.,   0.,   0.,   0.,   0.,   0.,   0.,   0.,   0.,\n",
              "         0.,   0.,   0.,   0.,   0.,   0.,   0.,   0.,   0.,   0.,   0.,\n",
              "         0.,   0.,   0.,   0.,   0.,   0.,   0.,   0.,   0.,   0.,   0.,\n",
              "         0.,   0.,   0.,   0.,   0.,   0.,   0.,   0.,   0.,   0.,   0.,\n",
              "         0.,   0.,   0.,   0.,   0.,   0.,   0.,   0.,   0.,   0.,   0.,\n",
              "         0.,   0.,   0.,   0.,   0.,   0.,   0.,   0.,   0.,   0.,   0.,\n",
              "         0.,   0.,   0.,   0.,   0.,   0.,   0.,   0.,   0.,   0.,   0.,\n",
              "         0.,   0.,   0.,   0.,   0.,   0.,   0.,   0.,   0.,   0.,   0.,\n",
              "         0.,   0.,   0.,   0.])"
            ]
          },
          "metadata": {
            "tags": []
          },
          "execution_count": 30
        }
      ]
    },
    {
      "cell_type": "markdown",
      "metadata": {
        "id": "_6oj2tJs8a2c",
        "colab_type": "text"
      },
      "source": [
        "Cada ejemplo (fila) es un arreglo con $785$ elementos, el primer elemento es la etiqueta del dígito (un entero de $0$ a $9$). El resto de los elementos ($784$) son los pixeles de la imágen ($28\\times28 = 784$)."
      ]
    },
    {
      "cell_type": "code",
      "metadata": {
        "id": "fdgCOUGsW38Z",
        "colab_type": "code",
        "colab": {}
      },
      "source": [
        "# caracterizando el set de datos\n",
        "m = np.size(MNist)\n",
        "n = np.ndim(MNist)\n",
        "\n",
        "X =MNist[:,1:]  #X_data\n",
        "y= MNist[:,0:1] #Y_index\n",
        "\n",
        "# print(\"El set de datos contiene \", m, \" ejemplos.\")\n",
        "# print(\"El set de datos contiene \", n, \" dimensiones.\")"
      ],
      "execution_count": 0,
      "outputs": []
    },
    {
      "cell_type": "markdown",
      "metadata": {
        "id": "AjMIaWVIUDLq",
        "colab_type": "text"
      },
      "source": [
        "## Visualizando las imágenes en el set de datos\n",
        "\n",
        "Usemos la función auxiliar display_example para visualizar los ejemplos en el set de datos. Intentar cambiar el valor de ```i``` para mostrar un ejemplo distinto."
      ]
    },
    {
      "cell_type": "code",
      "metadata": {
        "id": "J1M_emH_RTaX",
        "colab_type": "code",
        "outputId": "b51e0efb-c3bc-44c4-ac5b-b1d20a3ed0d1",
        "colab": {
          "base_uri": "https://localhost:8080/",
          "height": 286
        }
      },
      "source": [
        "#puedes cambiar el valor de i\n",
        "i = 487\n",
        "\n",
        "example = X[i]\n",
        "example_label = y[i]\n",
        "display_example(example)\n",
        "print(\"Imágen con etiqueta: \", example_label)"
      ],
      "execution_count": 23,
      "outputs": [
        {
          "output_type": "display_data",
          "data": {
            "image/png": "[encoded data removed]",
            "text/plain": [
              "<Figure size 432x288 with 1 Axes>"
            ]
          },
          "metadata": {
            "tags": [],
            "needs_background": "light"
          }
        },
        {
          "output_type": "stream",
          "text": [
            "Imágen con etiqueta:  [9.]\n"
          ],
          "name": "stdout"
        }
      ]
    },
    {
      "cell_type": "markdown",
      "metadata": {
        "id": "KncyFgv4apeS",
        "colab_type": "text"
      },
      "source": [
        "## Contando el número de ejemplos para cada \"clase\"\n"
      ]
    },
    {
      "cell_type": "code",
      "metadata": {
        "id": "5DXr5BVpMvy7",
        "colab_type": "code",
        "colab": {}
      },
      "source": [
        "def count_class_examples(y):\n",
        " \n",
        "   for i in range(10):\n",
        "    count = np.size(y[y[:,0]==i]) #devuelve la cuenta del número de valores asociados a i\n",
        "    print(\"Numero de \", i, count)"
      ],
      "execution_count": 0,
      "outputs": []
    },
    {
      "cell_type": "code",
      "metadata": {
        "id": "cetXv0aueKOe",
        "colab_type": "code",
        "outputId": "bffc67df-b700-40af-ce8d-eb709140b2d1",
        "colab": {
          "base_uri": "https://localhost:8080/",
          "height": 187
        }
      },
      "source": [
        "count_class_examples(y)"
      ],
      "execution_count": 16,
      "outputs": [
        {
          "output_type": "stream",
          "text": [
            "Numero de  0 1962\n",
            "Numero de  1 2243\n",
            "Numero de  2 1989\n",
            "Numero de  3 2021\n",
            "Numero de  4 1924\n",
            "Numero de  5 1761\n",
            "Numero de  6 2039\n",
            "Numero de  7 2126\n",
            "Numero de  8 1912\n",
            "Numero de  9 2023\n"
          ],
          "name": "stdout"
        }
      ]
    },
    {
      "cell_type": "markdown",
      "metadata": {
        "id": "F_bF-YXHfY8p",
        "colab_type": "text"
      },
      "source": [
        "\n",
        "\n",
        "\n",
        "## Calculando el arreglo representativo para cada clase\n",
        "\n"
      ]
    },
    {
      "cell_type": "code",
      "metadata": {
        "id": "IMTD35bOFGg_",
        "colab_type": "code",
        "colab": {}
      },
      "source": [
        "def class_means(X, y):\n",
        "##Calcula el arreglo representativo de cada clase de números\n",
        "\n",
        "  # Numero de ejemplos (filas)\n",
        "  m = X.shape[0] #<< 0 se refiere a filas\n",
        "\n",
        "  # Numero de features (columnas)\n",
        "  n = X.shape[1] #<< 1 se refiere a columnas\n",
        " \n",
        "  # Clases distintas en el set(0 a 9)\n",
        "  ulabels = np.unique(y)\n",
        "\n",
        "\n",
        "  # Numero de clases\n",
        "  classes = ulabels.size\n",
        "\n",
        "  # Rellena means con el arreglo promedio de cada clase\n",
        "  means =np.zeros((classes, n)) #<< crea un arreglo vacío de \"classes x n\" dimensiones \n",
        "  means=means.astype(int) # no es necesario definir el tipo de variable\n",
        "  X = X.astype(int)\n",
        "\n",
        "  for i in range(10):\n",
        "    size=0\n",
        "    for j in range(m):\n",
        "      #print(j)\n",
        "      if(y[j]==i):\n",
        "        means[i,:] +=X[j]\n",
        "        size+=1\n",
        "    means[i,:]= means[i,:]/ size \n",
        "  return means"
      ],
      "execution_count": 0,
      "outputs": []
    },
    {
      "cell_type": "code",
      "metadata": {
        "id": "Nupjyy3kBatD",
        "colab_type": "code",
        "colab": {}
      },
      "source": [
        "class_representatives = class_means(X, y)"
      ],
      "execution_count": 0,
      "outputs": []
    },
    {
      "cell_type": "markdown",
      "metadata": {
        "id": "qQjZYBzZFckR",
        "colab_type": "text"
      },
      "source": [
        "Utiliza la función ```display_example``` para mostrar el ejemplo promedio de la clase (para cada clase)."
      ]
    },
    {
      "cell_type": "code",
      "metadata": {
        "id": "mcnZre4CBhIl",
        "colab_type": "code",
        "outputId": "be66aa51-53f3-4750-c89f-53e4859e9fa8",
        "colab": {
          "base_uri": "https://localhost:8080/",
          "height": 521
        }
      },
      "source": [
        "for i in range(2,4):\n",
        "  display_example(class_representatives[i])"
      ],
      "execution_count": 29,
      "outputs": [
        {
          "output_type": "display_data",
          "data": {
            "image/png": "[encoded data removed]",
            "text/plain": [
              "<Figure size 432x288 with 1 Axes>"
            ]
          },
          "metadata": {
            "tags": [],
            "needs_background": "light"
          }
        },
        {
          "output_type": "display_data",
          "data": {
            "image/png": "[encoded data removed]",
            "text/plain": [
              "<Figure size 432x288 with 1 Axes>"
            ]
          },
          "metadata": {
            "tags": [],
            "needs_background": "light"
          }
        }
      ]
    },
    {
      "cell_type": "markdown",
      "metadata": {
        "id": "jaemlIYPEbIt",
        "colab_type": "text"
      },
      "source": [
        "## Clasificador de dígitos usando distancias\n",
        "\n",
        "En esta sección, generaremos un modelo para identificar dígitos mediante el uso de distancias euclidianas. Calcularemos la distancia entre cada ejemplo en el conjunto y los dígitos representativos de cada clase (el valor promedio de cada clase). Le asignaremos a cada ejemplo la etiqueta del dígito representativo con menor distancia."
      ]
    },
    {
      "cell_type": "markdown",
      "metadata": {
        "id": "hCh7PfLgFDWx",
        "colab_type": "text"
      },
      "source": [
        "### Distancia Euclidiana\n",
        "\n",
        "\n",
        "La distancia euclidiana entre dos puntos P y Q en un espacio n-dimesional es:\n",
        "\n",
        "$$d_e(P, Q) = \\sqrt{(p_1 - q_1)^2+(p_2-q_2)^2 + \\dots+(p_n-q_n)^2} = \\sqrt{\\sum_{i=1}^{n}(p_i-q_i)^2} $$"
      ]
    },
    {
      "cell_type": "code",
      "metadata": {
        "id": "thU_Ff2AEWac",
        "colab_type": "code",
        "colab": {}
      },
      "source": [
        "def euclidean_distance(P, Q):\n",
        "  e_distance = np.linalg.norm(P-Q)\n",
        "  return e_distance"
      ],
      "execution_count": 0,
      "outputs": []
    },
    {
      "cell_type": "code",
      "metadata": {
        "id": "KQC1XSUEefxr",
        "colab_type": "code",
        "outputId": "799850f5-3fd6-4a1c-976c-a7eb74a40b4b",
        "colab": {
          "base_uri": "https://localhost:8080/",
          "height": 34
        }
      },
      "source": [
        "#vamos a cambiar un poco estos números\n",
        "\n",
        "#tenemos dos puntos definidos como a y b, vamos a cambiar los puntos y ver que pasa\n",
        "a = np.array([[1, 2, 3]])\n",
        "b = np.array([[3, 3, 5]])\n",
        "\n",
        "euclidean_distance(a, b)"
      ],
      "execution_count": 34,
      "outputs": [
        {
          "output_type": "execute_result",
          "data": {
            "text/plain": [
              "3.0"
            ]
          },
          "metadata": {
            "tags": []
          },
          "execution_count": 34
        }
      ]
    },
    {
      "cell_type": "markdown",
      "metadata": {
        "id": "g_Z1b1-gBWiY",
        "colab_type": "text"
      },
      "source": [
        "## Buscando al más parecido\n"
      ]
    },
    {
      "cell_type": "code",
      "metadata": {
        "id": "xsxSqA2UjTBQ",
        "colab_type": "code",
        "colab": {}
      },
      "source": [
        "def closest_point(X, representatives):\n",
        "  \"\"\"\n",
        "  Devuelve un arreglo con la etiqueta del elemento mas cercano\n",
        "  para cada ejemplo en X\n",
        "\n",
        "  X -  el arreglo con los ejemplos\n",
        "  representatives - el arreglo con los elementos representativos de cada clase\n",
        "  \"\"\"\n",
        "  # Numero de ejemplos (filas)\n",
        "  m = X.shape[0]\n",
        "  # Numero de features (columnas)\n",
        "  n = X.shape[1]\n",
        "  # Numero de clases\n",
        "  classes = representatives.shape[0]\n",
        "\n",
        "  # Distancias minimas\n",
        "  #min_distances = np.full(m, np.inf)\n",
        "  min_distances = np.zeros((m, 10))\n",
        "\n",
        "  # El indice de la mejor distancia\n",
        "  best = np.zeros((X.shape[0]), dtype=np.int8)\n",
        " \n",
        "  for j in range(m): #recorre todo el arreglo de ejemplos\n",
        "    for i  in range (classes): #recorre de 0 a 9\n",
        "      min_distances[j,i]=euclidean_distance(X[j],representatives[i]) #se mandan a la función datos para comparar\n",
        "\n",
        "    f= np.amin(min_distances[j]) # busca el valor mínimo, el valor más cercano\n",
        "    b= np.where(min_distances[j]==f) # se busca el índice del valor mínimo\n",
        "    best[j]=b[0] # guarda el valor devulto por la función\n",
        " \n",
        "  return best"
      ],
      "execution_count": 0,
      "outputs": []
    },
    {
      "cell_type": "code",
      "metadata": {
        "id": "EioV2HZmH1Z-",
        "colab_type": "code",
        "colab": {}
      },
      "source": [
        "y_pred = closest_point(X, class_representatives)"
      ],
      "execution_count": 0,
      "outputs": []
    },
    {
      "cell_type": "markdown",
      "metadata": {
        "id": "zdSzZo8WHUxd",
        "colab_type": "text"
      },
      "source": [
        "## Visualiza las predicciones"
      ]
    },
    {
      "cell_type": "code",
      "metadata": {
        "id": "0SsGlu2uHzFF",
        "colab_type": "code",
        "outputId": "6cce11fe-f7ed-480b-fcec-820f70f1882c",
        "colab": {
          "base_uri": "https://localhost:8080/",
          "height": 286
        }
      },
      "source": [
        "# juguemos cambiando el valor de i\n",
        "i = 100\n",
        "\n",
        "example = X[i]\n",
        "pred_label = y_pred[i]\n",
        "true_label = y[i]\n",
        "display_example(example)\n",
        "print(\"Imágen con etiqueta: \", true_label, \" modelo dice:\", pred_label)"
      ],
      "execution_count": 37,
      "outputs": [
        {
          "output_type": "display_data",
          "data": {
            "image/png": "[encoded data removed]",
            "text/plain": [
              "<Figure size 432x288 with 1 Axes>"
            ]
          },
          "metadata": {
            "tags": [],
            "needs_background": "light"
          }
        },
        {
          "output_type": "stream",
          "text": [
            "Imágen con etiqueta:  [7.]  modelo dice: 9\n"
          ],
          "name": "stdout"
        }
      ]
    },
    {
      "cell_type": "markdown",
      "metadata": {
        "id": "wx9HvySkHQWW",
        "colab_type": "text"
      },
      "source": [
        "## Evaluando el clasificador\n",
        "\n",
        "Vamos a evaluar el modelo, compararemos el valor predicho contra la etiqueta del set de datos.\n",
        "\n",
        "\n",
        "$$\\texttt{accuracy}(y, \\hat{y}) = \\frac{1}{m} \\sum_{i=0}^{m-1} 1(\\hat{y}_i = y_i)$$\n",
        "\n",
        "$$1(1(\\hat{y}_i = y_i) = 1 \\quad \\text{cuando} \\quad \\hat{y}_i = y_i$$\n",
        "\n",
        "$$1(1(\\hat{y}_i = y_i) = 0 \\quad \\text{cuando} \\quad \\hat{y}_i \\neq y_i$$\n",
        "\n",
        "$$m \\quad \\text{es el número de ejemplos}$$\n",
        "\n",
        "\n",
        "\n",
        "\n",
        "\n",
        "\n",
        "un par de preguntas:\n",
        "\n",
        "*   ¿Qué factores pueden afectar la predicción?\n",
        "*   ¿Cómo se pueden obtener mejores resultados?\n"
      ]
    },
    {
      "cell_type": "code",
      "metadata": {
        "id": "_MeQoOaYItol",
        "colab_type": "code",
        "colab": {}
      },
      "source": [
        "def accuracy(y, y_pred):\n",
        "  \"\"\"\n",
        "  Devuelve la exactitud dados dos vectores \"y\" con la verdad\n",
        "  y \"y_pred\" con las predicciones\n",
        "  \"\"\"\n",
        "  acc=0\n",
        "  for i in range(19999):\n",
        "    if y[i]==y_pred[i]:\n",
        "      acc +=1\n",
        "  acc=(acc/20000)*100    #<< acc entre número de datos * 100\n",
        "\n",
        "  return acc"
      ],
      "execution_count": 0,
      "outputs": []
    },
    {
      "cell_type": "code",
      "metadata": {
        "id": "f-aY9tZ0bh1H",
        "colab_type": "code",
        "outputId": "ab66032d-71f5-4d04-89d9-c6951c06791a",
        "colab": {
          "base_uri": "https://localhost:8080/",
          "height": 34
        }
      },
      "source": [
        "accuracy(y, y_pred)"
      ],
      "execution_count": 49,
      "outputs": [
        {
          "output_type": "execute_result",
          "data": {
            "text/plain": [
              "80.925"
            ]
          },
          "metadata": {
            "tags": []
          },
          "execution_count": 49
        }
      ]
    },
    {
      "cell_type": "markdown",
      "metadata": {
        "id": "q8SCpjcG5nsF",
        "colab_type": "text"
      },
      "source": [
        "# Ahora veamos un ejemplo utilizando librerías y funciones ya definidas.\n",
        "una pizca de deep learning\n",
        "\n",
        "---\n",
        "\n"
      ]
    },
    {
      "cell_type": "markdown",
      "metadata": {
        "id": "3mO1hd-09kbt",
        "colab_type": "text"
      },
      "source": [
        "**Redes neuronales**\n",
        "\n",
        "*En palabras del Dr. Alejandro Garciarrubio y Dr. Lorenzo Segovia*\n",
        "\n",
        "La redes neuronales artificiales son un red de nodos conectados. Cada nodo lleva a cabo una computación sencilla, pero la red en su conjunto puede realizar computaciones muy complejas. A los nodos se les llama \"neuronas\", pues están lejanamente inspirados en el funcionamiento de las neuronas biológicas. Cada una de estas neuronas actua así:\n",
        "\n",
        "1.    recibe información de muchas otras (sus inputs)\n",
        "2.   sopesa los inputs distintamente según la neurona de la que provenga (multiplicándolo por un peso, que es distinto para cada input)\n",
        "\n",
        "3.   suma los inputs tras darles ese peso\n",
        "4.   aplica una función al total de la suma. El valor resultante (el output) suele servir de input a otra neurona.\n",
        "\n",
        "\n",
        "El cálculo realizado por una neurona tiene una formulación matemática muy sencilla:\n",
        "\n",
        "`output = F( Suma(i1 * w1, i2 * w2, ..., iN * wN) )`\n",
        "\n",
        "\n",
        "donde (i1, i2,... iN) son los inputs recibidos de N neuronas, (w1, w2, ...,wN) son los pesos para cada input, Suma es la suma aritmética de los sumandos, y F es una función sencilla, elegida por el programador, denominada \"función de activación\" de la neurona.\n",
        "\n",
        "Es decir, una red neuronal tiene un gran simil con el modelo de una neurona, y una red neuronal se asemeja al aprendizaje del cerebro.\n",
        "\n",
        "\n",
        "\n",
        "\n",
        "Vamos a ver un \"toy model\" de una red neuronal\n",
        "\n",
        "[toy model](https://playground.tensorflow.org/#activation=tanh&batchSize=10&dataset=circle&regDataset=reg-plane&learningRate=0.03&regularizationRate=0&noise=0&networkShape=4,2&seed=0.98722&showTestData=false&discretize=false&percTrainData=50&x=true&y=true&xTimesY=false&xSquared=false&ySquared=false&cosX=false&sinX=false&cosY=false&sinY=false&collectStats=false&problem=classification&initZero=false&hideText=false)"
      ]
    },
    {
      "cell_type": "markdown",
      "metadata": {
        "id": "7zNEyqExB97Q",
        "colab_type": "text"
      },
      "source": [
        ""
      ]
    },
    {
      "cell_type": "code",
      "metadata": {
        "id": "QUn8qyJzxzLm",
        "colab_type": "code",
        "colab": {}
      },
      "source": [
        "import tensorflow as tf\n",
        "(x_train, y_train), (x_test, y_test) = tf.keras.datasets.mnist.load_data()"
      ],
      "execution_count": 0,
      "outputs": []
    },
    {
      "cell_type": "code",
      "metadata": {
        "id": "wRaTIbjNzDXX",
        "colab_type": "code",
        "colab": {
          "base_uri": "https://localhost:8080/",
          "height": 299
        },
        "outputId": "159964d3-f392-48be-906e-5c912a32ca78"
      },
      "source": [
        "import matplotlib.pyplot as plt\n",
        "\n",
        "image_index = 1234 # << podemos cambiar este valor\n",
        "print('Etiqueta de la imagen: ',y_train[image_index]) \n",
        "plt.imshow(x_train[image_index], cmap='Greys')"
      ],
      "execution_count": 98,
      "outputs": [
        {
          "output_type": "stream",
          "text": [
            "Etiqueta de la imagen:  3\n"
          ],
          "name": "stdout"
        },
        {
          "output_type": "execute_result",
          "data": {
            "text/plain": [
              "<matplotlib.image.AxesImage at 0x7f9c39248748>"
            ]
          },
          "metadata": {
            "tags": []
          },
          "execution_count": 98
        },
        {
          "output_type": "display_data",
          "data": {
            "image/png": "[encoded data removed]",
            "text/plain": [
              "<Figure size 432x288 with 1 Axes>"
            ]
          },
          "metadata": {
            "tags": [],
            "needs_background": "light"
          }
        }
      ]
    },
    {
      "cell_type": "code",
      "metadata": {
        "id": "rGbYj8KmzT4R",
        "colab_type": "code",
        "colab": {
          "base_uri": "https://localhost:8080/",
          "height": 51
        },
        "outputId": "7fbb52ba-af15-4e13-82e3-81153eeedf01"
      },
      "source": [
        "# ** ejemplo ya construido **\n",
        "\n",
        "x_train = x_train.reshape(x_train.shape[0], 28, 28, 1)\n",
        "x_test = x_test.reshape(x_test.shape[0], 28, 28, 1)\n",
        "input_shape = (28, 28, 1)\n",
        "\n",
        "\n",
        "x_train = x_train.astype('float32')\n",
        "x_test = x_test.astype('float32')\n",
        "\n",
        "# normalizando los set de datos\n",
        "x_train /= 255\n",
        "x_test /= 255\n",
        "\n",
        "print('Set de entrenamiento', x_train.shape[0])\n",
        "print('set de pruebas', x_test.shape[0])"
      ],
      "execution_count": 89,
      "outputs": [
        {
          "output_type": "stream",
          "text": [
            "Set de entrenamiento 60000\n",
            "set de pruebas 10000\n"
          ],
          "name": "stdout"
        }
      ]
    },
    {
      "cell_type": "code",
      "metadata": {
        "id": "dhRXuBhMzXyw",
        "colab_type": "code",
        "colab": {}
      },
      "source": [
        "# Creando la red \n",
        "from keras.models import Sequential\n",
        "from keras.layers import Dense, Conv2D, Dropout, Flatten, MaxPooling2D\n",
        "#añadiendo las capas a la red\n",
        "model = Sequential()\n",
        "model.add(Conv2D(28, kernel_size=(3,3), input_shape=input_shape))\n",
        "model.add(MaxPooling2D(pool_size=(2, 2)))\n",
        "model.add(Flatten()) # Flattening the 2D arrays for fully connected layers\n",
        "model.add(Dense(128, activation=tf.nn.relu))\n",
        "model.add(Dropout(0.2))\n",
        "model.add(Dense(10,activation=tf.nn.softmax))"
      ],
      "execution_count": 0,
      "outputs": []
    },
    {
      "cell_type": "code",
      "metadata": {
        "id": "FL53L3jZzclQ",
        "colab_type": "code",
        "colab": {
          "base_uri": "https://localhost:8080/",
          "height": 102
        },
        "outputId": "8abe4709-02a1-46d1-a60f-0c32e25bbcd1"
      },
      "source": [
        "model.compile(optimizer='adam', \n",
        "              loss='sparse_categorical_crossentropy', \n",
        "              metrics=['accuracy'])\n",
        "model.fit(x=x_train,y=y_train, epochs=2)  #se puede cambiar el número de épocas"
      ],
      "execution_count": 67,
      "outputs": [
        {
          "output_type": "stream",
          "text": [
            "Epoch 1/2\n",
            "60000/60000 [==============================] - 37s 620us/step - loss: 0.2181 - accuracy: 0.9344\n",
            "Epoch 2/2\n",
            "60000/60000 [==============================] - 37s 611us/step - loss: 0.0846 - accuracy: 0.9736\n"
          ],
          "name": "stdout"
        },
        {
          "output_type": "execute_result",
          "data": {
            "text/plain": [
              "<keras.callbacks.callbacks.History at 0x7f9c39c20160>"
            ]
          },
          "metadata": {
            "tags": []
          },
          "execution_count": 67
        }
      ]
    },
    {
      "cell_type": "code",
      "metadata": {
        "id": "GiyRNaSszgLF",
        "colab_type": "code",
        "colab": {
          "base_uri": "https://localhost:8080/",
          "height": 51
        },
        "outputId": "74241b0b-ecdf-45ef-aec0-6d44f02db013"
      },
      "source": [
        "model.evaluate(x_test, y_test)"
      ],
      "execution_count": 68,
      "outputs": [
        {
          "output_type": "stream",
          "text": [
            "10000/10000 [==============================] - 2s 198us/step\n"
          ],
          "name": "stdout"
        },
        {
          "output_type": "execute_result",
          "data": {
            "text/plain": [
              "[0.059781745723914356, 0.9818999767303467]"
            ]
          },
          "metadata": {
            "tags": []
          },
          "execution_count": 68
        }
      ]
    },
    {
      "cell_type": "markdown",
      "metadata": {
        "id": "JI6DkhNA1OUO",
        "colab_type": "text"
      },
      "source": [
        "El modelo a logrado una precisión de +- 98 %, pero por ejemplo en caso de coches autónomos, ni siquiera podemos tolerar un error de 0.1% ya que, como analogía, causará 1 un error por cada 1000 veces que se reconce un objeto."
      ]
    },
    {
      "cell_type": "code",
      "metadata": {
        "id": "ekpl_Ddd1CSA",
        "colab_type": "code",
        "colab": {
          "base_uri": "https://localhost:8080/",
          "height": 299
        },
        "outputId": "8bcc0ffc-f682-46ed-8788-5a4714bea2ab"
      },
      "source": [
        "#vamos a cambiar el valor de image_index\n",
        "\n",
        "image_index = 2345  #1000,60,220\n",
        "plt.imshow(x_test[image_index].reshape(28, 28),cmap='Greys')\n",
        "pred = model.predict(x_test[image_index].reshape(1, 28, 28, 1))\n",
        "print('Se observa la etiqueta predicha a la imagen mostrada')\n",
        "\n",
        "print('Predicción : ',pred.argmax())"
      ],
      "execution_count": 101,
      "outputs": [
        {
          "output_type": "stream",
          "text": [
            "Se observa la etiqueta predicha a la imagen mostrada\n",
            "Predicción :  9\n"
          ],
          "name": "stdout"
        },
        {
          "output_type": "display_data",
          "data": {
            "image/png": "[encoded data removed]",
            "text/plain": [
              "<Figure size 432x288 with 1 Axes>"
            ]
          },
          "metadata": {
            "tags": [],
            "needs_background": "light"
          }
        }
      ]
    },
    {
      "cell_type": "code",
      "metadata": {
        "id": "PAog8Hf91Uo9",
        "colab_type": "code",
        "colab": {}
      },
      "source": [
        ""
      ],
      "execution_count": 0,
      "outputs": []
    }
  ]
}